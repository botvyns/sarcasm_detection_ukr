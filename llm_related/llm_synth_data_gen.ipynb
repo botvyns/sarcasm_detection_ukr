{
  "nbformat": 4,
  "nbformat_minor": 0,
  "metadata": {
    "colab": {
      "provenance": []
    },
    "kernelspec": {
      "name": "python3",
      "display_name": "Python 3"
    },
    "language_info": {
      "name": "python"
    }
  },
  "cells": [
    {
      "cell_type": "code",
      "source": [
        "%%capture\n",
        "!pip install openai"
      ],
      "metadata": {
        "id": "gTbxQMNVzPYl"
      },
      "execution_count": 10,
      "outputs": []
    },
    {
      "cell_type": "code",
      "execution_count": 11,
      "metadata": {
        "id": "aNezSl86y8bb"
      },
      "outputs": [],
      "source": [
        "from openai import OpenAI\n",
        "import json\n",
        "from google.colab import userdata\n",
        "\n",
        "# Set up OpenAI API key\n",
        "client = OpenAI(api_key=userdata.get('OPENAI_API_KEY'))"
      ]
    },
    {
      "cell_type": "code",
      "source": [
        "def generate_sarcastic_texts(prompt, num_texts=20):\n",
        "    sarcastic_texts = []\n",
        "\n",
        "    for _ in range(num_texts):\n",
        "        response = client.chat.completions.create(\n",
        "            model=\"gpt-4-turbo\",\n",
        "            messages=[\n",
        "                {\"role\": \"system\", \"content\": \"\"\"Ти багато спілкуєшся онлайн. Тобі відомо, що сарказм – таке висловлювання, буквальне значення якого відрізняється від того, яке мовець насправді має на увазі.\n",
        "Саркастичні тексти можуть містити такі ознаки: гіпербола, пунктуаційні знаки, прагматичні ознаки (емотикони, емоджі, великі літери), невідповідність, пародіювання російської вимови.\"\"\"},\n",
        "                {\"role\": \"user\", \"content\": prompt}\n",
        "            ],\n",
        "            temperature=1\n",
        "        )\n",
        "\n",
        "        response = response.choices[0].message.content\n",
        "        sarcastic_texts.append(response.strip())\n",
        "\n",
        "    return sarcastic_texts"
      ],
      "metadata": {
        "id": "35TpbbR_VBOM"
      },
      "execution_count": null,
      "outputs": []
    },
    {
      "cell_type": "code",
      "source": [
        "prompt_zero_shot = \"\"\"Згенеруй 50 саркастичних текстів. Тексти повинні бути унікальні та покривати різні теми. Не використовуй слова `сарказм`, `сарк`, `sarcasm`, `sarc` у тексті.\n",
        "Поверни правильний RFC8259 JSON без жодних відхилень у такому форматі:\n",
        "{\"тексти\": list[саркастичні тексти]}\n",
        "\"\"\"\n",
        "\n",
        "prompt_one_shot = \"\"\"Згенеруй 50 саркастичних текстів. Тексти повинні бути унікальні та покривати різні теми. Не використовуй слова `сарказм`, `сарк`, `sarcasm`, `sarc` у тексті.\n",
        "Поверни правильний RFC8259 JSON без жодних відхилень у такому форматі:\n",
        "{\"тексти\": list[саркастичні тексти]}\n",
        "Приклад: {\"тексти\": list[\"<користувач> що тут сказати, Савченко об'єднує країну!! Так тримати!1\"]}\n",
        "\"\"\"\n",
        "\n",
        "prompt_few_shot = \"\"\"Згенеруй 50 саркастичних текстів. Тексти повинні бути унікальні та покривати різні теми. Не використовуй слова `сарказм`, `сарк`, `sarcasm`, `sarc` у тексті.\n",
        "Поверни правильний RFC8259 JSON без жодних відхилень у такому форматі:\n",
        "{\"тексти\": list[саркастичні тексти]}\n",
        "Приклад: {\"тексти\": list[\"<користувач> <користувач> Вона не голосувала за пукіна….\", \"Світу до росіян не існувало, запам'ятайте\\n\",\n",
        "\"Я не зрозумію мабуть ніколи, чому комусь лінь шити взуття по стандарту.Чому треба обов‘язково нашити купу шибздиків, і називати їх «МАЛОМЄРКІ»\\nНАШО? Це прояв пекла на землі? Шиють взуття агенти диявола?\"\"]}\n",
        "\"\"\""
      ],
      "metadata": {
        "id": "Jwj9vcrMVhaZ"
      },
      "execution_count": null,
      "outputs": []
    },
    {
      "cell_type": "code",
      "source": [
        "sarcastic_texts = generate_sarcastic_texts(prompt_zero_shot, num_texts=20)\n",
        "print(sarcastic_texts)"
      ],
      "metadata": {
        "id": "8IsxQuHhVjW0"
      },
      "execution_count": null,
      "outputs": []
    },
    {
      "cell_type": "code",
      "source": [
        "with open('zeroshot_prompt_sarcastic.txt', 'w', encoding='utf-8') as file\n",
        "    for item in sarcastic_texts:\n",
        "        file.write(f\"{item},\\n\")"
      ],
      "metadata": {
        "colab": {
          "base_uri": "https://localhost:8080/"
        },
        "id": "6p3vCExgSeE4",
        "outputId": "0f30a87f-5b70-4333-faab-d0ceaa6de27c"
      },
      "execution_count": 15,
      "outputs": [
        {
          "output_type": "stream",
          "name": "stdout",
          "text": [
            "Content written to output.txt\n"
          ]
        }
      ]
    }
  ]
}